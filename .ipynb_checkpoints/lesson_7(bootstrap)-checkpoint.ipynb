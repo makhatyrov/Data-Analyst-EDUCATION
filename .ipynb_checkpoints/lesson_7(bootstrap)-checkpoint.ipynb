{
 "cells": [
  {
   "cell_type": "code",
   "execution_count": 30,
   "id": "b7ae48b2-9225-4d0e-85d9-b082c49ae3f1",
   "metadata": {},
   "outputs": [],
   "source": [
    "import pandas as pd\n",
    "import seaborn as sns\n"
   ]
  },
  {
   "cell_type": "code",
   "execution_count": 24,
   "id": "3ba1a170-b493-420f-a186-0110f7dbd6db",
   "metadata": {},
   "outputs": [],
   "source": [
    "df = pd.read_csv('C:/Users/makhatyrov_victor/Desktop/курс/bootstrap_data.csv')"
   ]
  },
  {
   "cell_type": "code",
   "execution_count": 25,
   "id": "5d5d1fbc-3f64-410d-97df-27cfeb7f9b37",
   "metadata": {
    "scrolled": true
   },
   "outputs": [
    {
     "data": {
      "text/html": [
       "<div>\n",
       "<style scoped>\n",
       "    .dataframe tbody tr th:only-of-type {\n",
       "        vertical-align: middle;\n",
       "    }\n",
       "\n",
       "    .dataframe tbody tr th {\n",
       "        vertical-align: top;\n",
       "    }\n",
       "\n",
       "    .dataframe thead th {\n",
       "        text-align: right;\n",
       "    }\n",
       "</style>\n",
       "<table border=\"1\" class=\"dataframe\">\n",
       "  <thead>\n",
       "    <tr style=\"text-align: right;\">\n",
       "      <th></th>\n",
       "      <th>value</th>\n",
       "      <th>group</th>\n",
       "    </tr>\n",
       "  </thead>\n",
       "  <tbody>\n",
       "    <tr>\n",
       "      <th>0</th>\n",
       "      <td>100.719713</td>\n",
       "      <td>experimental</td>\n",
       "    </tr>\n",
       "    <tr>\n",
       "      <th>1</th>\n",
       "      <td>106.771525</td>\n",
       "      <td>experimental</td>\n",
       "    </tr>\n",
       "    <tr>\n",
       "      <th>2</th>\n",
       "      <td>106.974612</td>\n",
       "      <td>experimental</td>\n",
       "    </tr>\n",
       "    <tr>\n",
       "      <th>3</th>\n",
       "      <td>109.249662</td>\n",
       "      <td>experimental</td>\n",
       "    </tr>\n",
       "    <tr>\n",
       "      <th>4</th>\n",
       "      <td>116.230142</td>\n",
       "      <td>experimental</td>\n",
       "    </tr>\n",
       "  </tbody>\n",
       "</table>\n",
       "</div>"
      ],
      "text/plain": [
       "        value         group\n",
       "0  100.719713  experimental\n",
       "1  106.771525  experimental\n",
       "2  106.974612  experimental\n",
       "3  109.249662  experimental\n",
       "4  116.230142  experimental"
      ]
     },
     "execution_count": 25,
     "metadata": {},
     "output_type": "execute_result"
    }
   ],
   "source": [
    "df.head()"
   ]
  },
  {
   "cell_type": "markdown",
   "id": "954a9d07-5c91-43b4-9d2f-f220c9b1a7af",
   "metadata": {},
   "source": [
    "### Cчитаем доверительный интервал для контрольной группы для медиан по бутстрапу"
   ]
  },
  {
   "cell_type": "code",
   "execution_count": 26,
   "id": "8f73a290-c217-4190-bc91-4632f1393e42",
   "metadata": {},
   "outputs": [],
   "source": [
    "#берем только контрольные значения\n",
    "df_control = df[df.group == 'control']"
   ]
  },
  {
   "cell_type": "code",
   "execution_count": 38,
   "id": "b9547027-2e76-4e26-9258-4ad9027cfd3e",
   "metadata": {},
   "outputs": [],
   "source": [
    "n = 10000\n",
    "medians_control = []"
   ]
  },
  {
   "cell_type": "code",
   "execution_count": 40,
   "id": "335121b3-f234-469d-99c2-cc3c85a3d958",
   "metadata": {},
   "outputs": [],
   "source": [
    "for i in range(n):\n",
    "    df_sample = df_control.sample(frac = 1, replace = True)\n",
    "    df_sample_median = df_sample.value.median()\n",
    "    medians_control.append(df_sample_median)\n",
    "    "
   ]
  },
  {
   "cell_type": "code",
   "execution_count": 31,
   "id": "8986d84c-c19a-4e3a-80f5-cd6743c2eb65",
   "metadata": {},
   "outputs": [
    {
     "data": {
      "text/plain": [
       "<Axes: ylabel='Count'>"
      ]
     },
     "execution_count": 31,
     "metadata": {},
     "output_type": "execute_result"
    },
    {
     "data": {
      "image/png": "[encoded data removed]",
      "text/plain": [
       "<Figure size 640x480 with 1 Axes>"
      ]
     },
     "metadata": {},
     "output_type": "display_data"
    }
   ],
   "source": [
    "sns.histplot(medians_control)"
   ]
  },
  {
   "cell_type": "code",
   "execution_count": 33,
   "id": "d3e43b0f-150e-45f9-be75-64dbffe45265",
   "metadata": {},
   "outputs": [
    {
     "data": {
      "text/plain": [
       "146.67710291645344"
      ]
     },
     "execution_count": 33,
     "metadata": {},
     "output_type": "execute_result"
    }
   ],
   "source": [
    "#считаем 95% доверительный интервал \n",
    "pd.Series(medians_control).quantile(0.025)"
   ]
  },
  {
   "cell_type": "code",
   "execution_count": 34,
   "id": "acba1a99-c528-4cf7-9775-726ee9f52391",
   "metadata": {},
   "outputs": [
    {
     "data": {
      "text/plain": [
       "150.79195404716057"
      ]
     },
     "execution_count": 34,
     "metadata": {},
     "output_type": "execute_result"
    }
   ],
   "source": [
    "pd.Series(medians_control).quantile(0.975)"
   ]
  },
  {
   "cell_type": "markdown",
   "id": "d99ebfa2-7ca6-4ec8-a8b3-92768a0ea2bf",
   "metadata": {},
   "source": [
    "### Cчитаем доверительный интервал для тестовой группы для медиан по бутстрапу"
   ]
  },
  {
   "cell_type": "code",
   "execution_count": 51,
   "id": "47c52d05-784f-4316-aeaa-864f8381f090",
   "metadata": {},
   "outputs": [],
   "source": [
    "df_exp = df[df.group == 'experimental']\n"
   ]
  },
  {
   "cell_type": "code",
   "execution_count": 52,
   "id": "c5021f32-cb31-430e-b6c7-669bc37cdbc9",
   "metadata": {},
   "outputs": [],
   "source": [
    "medians_test = []"
   ]
  },
  {
   "cell_type": "code",
   "execution_count": 53,
   "id": "b06c0f26-c19d-4b9a-9250-de0b231b8ddc",
   "metadata": {},
   "outputs": [],
   "source": [
    "for i in range(10000):\n",
    "    df_sample_test_median = df_exp.sample(frac = 1, replace=True).value.median()\n",
    "    medians_test.append(df_sample_test_median)"
   ]
  },
  {
   "cell_type": "code",
   "execution_count": 54,
   "id": "74f2cea5-02d6-4159-908a-8dfd947c1509",
   "metadata": {},
   "outputs": [
    {
     "data": {
      "text/plain": [
       "<Axes: ylabel='Count'>"
      ]
     },
     "execution_count": 54,
     "metadata": {},
     "output_type": "execute_result"
    },
    {
     "data": {
      "image/png": "[encoded data removed]",
      "text/plain": [
       "<Figure size 640x480 with 1 Axes>"
      ]
     },
     "metadata": {},
     "output_type": "display_data"
    }
   ],
   "source": [
    "sns.histplot(medians_test)"
   ]
  },
  {
   "cell_type": "code",
   "execution_count": 47,
   "id": "2d27e021-442f-43ba-9b6b-3de27631b274",
   "metadata": {},
   "outputs": [
    {
     "data": {
      "text/plain": [
       "106.23062332625358"
      ]
     },
     "execution_count": 47,
     "metadata": {},
     "output_type": "execute_result"
    }
   ],
   "source": [
    "pd.Series(medians_test).quantile(0.025)"
   ]
  },
  {
   "cell_type": "code",
   "execution_count": 50,
   "id": "d6a945bb-7d7e-4b27-989c-9fb00a0aa292",
   "metadata": {},
   "outputs": [
    {
     "data": {
      "text/plain": [
       "107.77649076966284"
      ]
     },
     "execution_count": 50,
     "metadata": {},
     "output_type": "execute_result"
    }
   ],
   "source": [
    "pd.Series(medians_test).quantile(0.975)"
   ]
  },
  {
   "cell_type": "markdown",
   "id": "085d19c8-907a-458a-ad67-ab22186dc6ce",
   "metadata": {},
   "source": [
    "### Вывод. Тестовая группа не входит в доверительный интвервал контрольной группы, поэтому нулевая гипотеза опровергается"
   ]
  },
  {
   "cell_type": "code",
   "execution_count": null,
   "id": "28252f92-db01-4ffb-91f4-72fab8fe3eae",
   "metadata": {},
   "outputs": [],
   "source": []
  },
  {
   "cell_type": "code",
   "execution_count": null,
   "id": "4269c711-29d2-4cf9-aa04-b3af6ec19b8e",
   "metadata": {},
   "outputs": [],
   "source": []
  },
  {
   "cell_type": "code",
   "execution_count": null,
   "id": "f25f3dfb-132b-47ed-be96-cf00950b6774",
   "metadata": {},
   "outputs": [],
   "source": []
  },
  {
   "cell_type": "markdown",
   "id": "ad8839f4-32dd-43a1-8126-159603d3e16b",
   "metadata": {},
   "source": [
    "# Используем bootstrap с помощью встроенных модулей"
   ]
  },
  {
   "cell_type": "code",
   "execution_count": 57,
   "id": "6fea1d28-fade-4634-90eb-f97a6b244d37",
   "metadata": {},
   "outputs": [],
   "source": [
    "from scipy.stats import bootstrap\n",
    "import numpy as np"
   ]
  },
  {
   "cell_type": "code",
   "execution_count": 56,
   "id": "8c675748-0cb9-49de-b0b1-e96069da159c",
   "metadata": {},
   "outputs": [
    {
     "data": {
      "text/html": [
       "<div>\n",
       "<style scoped>\n",
       "    .dataframe tbody tr th:only-of-type {\n",
       "        vertical-align: middle;\n",
       "    }\n",
       "\n",
       "    .dataframe tbody tr th {\n",
       "        vertical-align: top;\n",
       "    }\n",
       "\n",
       "    .dataframe thead th {\n",
       "        text-align: right;\n",
       "    }\n",
       "</style>\n",
       "<table border=\"1\" class=\"dataframe\">\n",
       "  <thead>\n",
       "    <tr style=\"text-align: right;\">\n",
       "      <th></th>\n",
       "      <th>value</th>\n",
       "      <th>group</th>\n",
       "    </tr>\n",
       "  </thead>\n",
       "  <tbody>\n",
       "    <tr>\n",
       "      <th>494</th>\n",
       "      <td>167.682745</td>\n",
       "      <td>control</td>\n",
       "    </tr>\n",
       "    <tr>\n",
       "      <th>495</th>\n",
       "      <td>136.700100</td>\n",
       "      <td>control</td>\n",
       "    </tr>\n",
       "    <tr>\n",
       "      <th>496</th>\n",
       "      <td>128.694414</td>\n",
       "      <td>control</td>\n",
       "    </tr>\n",
       "    <tr>\n",
       "      <th>497</th>\n",
       "      <td>173.206408</td>\n",
       "      <td>control</td>\n",
       "    </tr>\n",
       "    <tr>\n",
       "      <th>498</th>\n",
       "      <td>128.697887</td>\n",
       "      <td>control</td>\n",
       "    </tr>\n",
       "  </tbody>\n",
       "</table>\n",
       "</div>"
      ],
      "text/plain": [
       "          value    group\n",
       "494  167.682745  control\n",
       "495  136.700100  control\n",
       "496  128.694414  control\n",
       "497  173.206408  control\n",
       "498  128.697887  control"
      ]
     },
     "execution_count": 56,
     "metadata": {},
     "output_type": "execute_result"
    }
   ],
   "source": [
    "df_control.head()"
   ]
  },
  {
   "cell_type": "code",
   "execution_count": 63,
   "id": "00a610e0-e00f-45fb-ae07-1aca2a137a37",
   "metadata": {},
   "outputs": [
    {
     "data": {
      "text/plain": [
       "BootstrapResult(confidence_interval=ConfidenceInterval(low=146.64049779772222, high=150.79195404716057), bootstrap_distribution=array([148.98437193, 149.43265414, 149.78535749, ..., 148.9108959 ,\n",
       "       148.83212651, 150.19538526]), standard_error=1.0014007200675967)"
      ]
     },
     "execution_count": 63,
     "metadata": {},
     "output_type": "execute_result"
    }
   ],
   "source": [
    "bootstrap([df_control.value, ], np.median)"
   ]
  },
  {
   "cell_type": "code",
   "execution_count": 65,
   "id": "cee449b4-0336-4cb8-9de4-3d1f270b6bfa",
   "metadata": {},
   "outputs": [
    {
     "data": {
      "text/plain": [
       "BootstrapResult(confidence_interval=ConfidenceInterval(low=106.2595922808035, high=107.79741396723091), bootstrap_distribution=array([106.38246022, 106.9905822 , 106.93492777, ..., 106.69034676,\n",
       "       106.50295302, 106.89524333]), standard_error=0.40815808465672204)"
      ]
     },
     "execution_count": 65,
     "metadata": {},
     "output_type": "execute_result"
    }
   ],
   "source": [
    "bootstrap([df_exp.value, ], np.median)"
   ]
  },
  {
   "cell_type": "code",
   "execution_count": null,
   "id": "9042c343-bb3d-43cb-a6a2-085f4d64af21",
   "metadata": {},
   "outputs": [],
   "source": []
  }
 ],
 "metadata": {
  "kernelspec": {
   "display_name": "Python 3 (ipykernel)",
   "language": "python",
   "name": "python3"
  },
  "language_info": {
   "codemirror_mode": {
    "name": "ipython",
    "version": 3
   },
   "file_extension": ".py",
   "mimetype": "text/x-python",
   "name": "python",
   "nbconvert_exporter": "python",
   "pygments_lexer": "ipython3",
   "version": "3.12.4"
  }
 },
 "nbformat": 4,
 "nbformat_minor": 5
}
