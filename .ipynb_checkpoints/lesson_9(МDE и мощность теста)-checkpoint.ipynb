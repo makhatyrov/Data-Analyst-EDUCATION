{
 "cells": [
  {
   "cell_type": "code",
   "execution_count": 1,
   "id": "a9188731-c6c5-424d-8d13-15b5d663983a",
   "metadata": {
    "tags": []
   },
   "outputs": [],
   "source": [
    "import pandas as pd\n",
    "import numpy as np\n",
    "from scipy import stats"
   ]
  },
  {
   "cell_type": "code",
   "execution_count": 2,
   "id": "ee62048e-15e7-4692-aca3-e85c9aa450f2",
   "metadata": {
    "tags": []
   },
   "outputs": [],
   "source": [
    "n = 10\n",
    "mu = 100\n",
    "sigma = 10\n",
    "diff = 0.01"
   ]
  },
  {
   "cell_type": "code",
   "execution_count": 3,
   "id": "dc495202-1fdf-45c0-bddd-1bd6136e094a",
   "metadata": {
    "tags": []
   },
   "outputs": [],
   "source": [
    "n_trials = 1000\n",
    "significant_count = 0"
   ]
  },
  {
   "cell_type": "code",
   "execution_count": 4,
   "id": "4821f542-b3d4-45fd-9446-69b1b035fd96",
   "metadata": {
    "tags": []
   },
   "outputs": [],
   "source": [
    "for i in range(n_trials):\n",
    "    control_group = np.random.normal(mu, sigma, n)\n",
    "    exp_group     = np.random.normal(mu + mu * diff, sigma, n)\n",
    "    test_fit = stats.ttest_ind(control_group, exp_group)\n",
    "    if test_fit.pvalue < 0.05:\n",
    "        significant_count += 1"
   ]
  },
  {
   "cell_type": "code",
   "execution_count": 5,
   "id": "9b49a8bd-fbcf-4221-ac6c-35e12ee23de7",
   "metadata": {
    "tags": []
   },
   "outputs": [
    {
     "data": {
      "text/plain": [
       "0.052"
      ]
     },
     "execution_count": 5,
     "metadata": {},
     "output_type": "execute_result"
    }
   ],
   "source": [
    "significant_count / n_trials"
   ]
  },
  {
   "cell_type": "code",
   "execution_count": null,
   "id": "02746588-b31c-4f34-b3cd-646e2f349c79",
   "metadata": {},
   "outputs": [],
   "source": []
  }
 ],
 "metadata": {
  "kernelspec": {
   "display_name": "Python 3 (ipykernel)",
   "language": "python",
   "name": "python3"
  },
  "language_info": {
   "codemirror_mode": {
    "name": "ipython",
    "version": 3
   },
   "file_extension": ".py",
   "mimetype": "text/x-python",
   "name": "python",
   "nbconvert_exporter": "python",
   "pygments_lexer": "ipython3",
   "version": "3.8.16"
  }
 },
 "nbformat": 4,
 "nbformat_minor": 5
}
