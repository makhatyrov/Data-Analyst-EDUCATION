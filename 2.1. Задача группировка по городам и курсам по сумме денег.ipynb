{
 "cells": [
  {
   "cell_type": "code",
   "execution_count": 50,
   "id": "1774eb33",
   "metadata": {},
   "outputs": [],
   "source": [
    "#Задача. Найти сумму по каждому из курсов, проранжировать курсы по степени количество денег и посмотреть разбивку по городам"
   ]
  },
  {
   "cell_type": "code",
   "execution_count": 1,
   "id": "3cde1c17",
   "metadata": {},
   "outputs": [],
   "source": [
    "import pandas as pd"
   ]
  },
  {
   "cell_type": "code",
   "execution_count": 63,
   "id": "21ff81c9",
   "metadata": {},
   "outputs": [],
   "source": [
    "df = pd.read_csv('C:/Users/makhatyrov_victor/python/Carpov_courses/lesson2/lesson_2_data.csv', encoding='windows-1251', sep=';' )\n",
    "#считываем с файла данные и задаем их в переменную df"
   ]
  },
  {
   "cell_type": "code",
   "execution_count": 64,
   "id": "9ea69100",
   "metadata": {},
   "outputs": [
    {
     "data": {
      "text/plain": [
       "Index(['Номер', 'Дата создания', 'Дата оплаты', 'Title', 'Статус',\n",
       "       'Заработано', 'Город', 'Платежная система'],\n",
       "      dtype='object')"
      ]
     },
     "execution_count": 64,
     "metadata": {},
     "output_type": "execute_result"
    }
   ],
   "source": [
    "df.columns\n",
    "#выводим название столбцов(Series)"
   ]
  },
  {
   "cell_type": "code",
   "execution_count": 65,
   "id": "55a19b93",
   "metadata": {},
   "outputs": [],
   "source": [
    "df = df.rename(columns={'Номер': 'numbers',\n",
    "                        'Дата создания': 'date_creation',\n",
    "                        'Дата оплаты': 'payment_day',\n",
    "                        'Title': 'title',\n",
    "                        'Статус': 'status',\n",
    "                        'Заработано': 'money',\n",
    "                        'Город': 'city',\n",
    "                        'Платежная система': 'payment_system'\n",
    "})\n",
    "#переименовываем название столбцов в удобный формат"
   ]
  },
  {
   "cell_type": "code",
   "execution_count": 66,
   "id": "efa0a756",
   "metadata": {},
   "outputs": [],
   "source": [
    "all_money = df.money.sum()\n",
    "#чтобы потом проверять себя узнаем сумму всех денег в столбце 'money'"
   ]
  },
  {
   "cell_type": "code",
   "execution_count": 106,
   "id": "c60b73d3",
   "metadata": {},
   "outputs": [],
   "source": [
    "money_by_city = df.groupby(['title', 'city'], as_index=False)\\\n",
    "    .aggregate({'money': 'sum'})\\\n",
    "    .sort_values('money', ascending=False)\n",
    "#группируем название курсов по сумме денег и городам, далее сортируем их по убыыванию. Также делаем код более читабельным с помощью знака \\. После чего присваиваем его в переменную money_by_city"
   ]
  },
  {
   "cell_type": "code",
   "execution_count": 107,
   "id": "2fb135d6",
   "metadata": {},
   "outputs": [],
   "source": [
    "money_by_city.to_csv('money_by_city.csv', index = False)\n",
    "#сохраняем полученный data frame "
   ]
  },
  {
   "cell_type": "code",
   "execution_count": null,
   "id": "4601f96f",
   "metadata": {},
   "outputs": [],
   "source": []
  },
  {
   "cell_type": "code",
   "execution_count": null,
   "id": "3c246b18",
   "metadata": {},
   "outputs": [],
   "source": []
  }
 ],
 "metadata": {
  "kernelspec": {
   "display_name": "Python 3 (ipykernel)",
   "language": "python",
   "name": "python3"
  },
  "language_info": {
   "codemirror_mode": {
    "name": "ipython",
    "version": 3
   },
   "file_extension": ".py",
   "mimetype": "text/x-python",
   "name": "python",
   "nbconvert_exporter": "python",
   "pygments_lexer": "ipython3",
   "version": "3.11.5"
  }
 },
 "nbformat": 4,
 "nbformat_minor": 5
}
