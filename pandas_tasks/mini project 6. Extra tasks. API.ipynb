{
 "cells": [
  {
   "cell_type": "code",
   "execution_count": 1,
   "metadata": {},
   "outputs": [],
   "source": [
    "#В рамках дополнительного проекта попробуем освоить API, позволяющий получать данные о музейных коллекциях. \n",
    "#Это задание может пригодиться для большего понимания того, какими способами можно собирать и обрабатывать данные,\n",
    "#например, для собственного проекта или другой рабочей задачи. Также вы можете более глубоко изучить документацию,\n",
    "#чтобы потом исследовать другие интересные для себя вопросы по полученным данным :)"
   ]
  },
  {
   "cell_type": "code",
   "execution_count": null,
   "metadata": {},
   "outputs": [],
   "source": []
  },
  {
   "cell_type": "code",
   "execution_count": null,
   "metadata": {},
   "outputs": [],
   "source": []
  },
  {
   "cell_type": "code",
   "execution_count": null,
   "metadata": {},
   "outputs": [],
   "source": [
    "#найти все произведения, связанные с подсолнухами. Выполните поиск по слову \"sunflowers\" и нужно взять 3 индекс со списка"
   ]
  },
  {
   "cell_type": "code",
   "execution_count": 2,
   "metadata": {},
   "outputs": [],
   "source": [
    "#импортируем нужные модули\n",
    "import requests\n",
    "import pandas as pd\n",
    "import seaborn as sns\n",
    "import matplotlib.pyplot as plt"
   ]
  },
  {
   "cell_type": "code",
   "execution_count": 3,
   "metadata": {},
   "outputs": [],
   "source": [
    "#запрос к API. Пример обращения к поиску (Search)\n",
    "#берем url и запрос, который нам нужно найти\n",
    "url = 'https://collectionapi.metmuseum.org/public/collection/v1/search?q='\n",
    "IDs = 'sunflowers'\n",
    "\n",
    "#создаем запрос с ссылкой и с ключевым словом\n",
    "r = requests.get(url+IDs)\n",
    "res = r.json()"
   ]
  },
  {
   "cell_type": "code",
   "execution_count": 4,
   "metadata": {},
   "outputs": [],
   "source": [
    "#присваиваем в список словарь с индексом objectIDs\n",
    "sunflower_ids = []\n",
    "sunflower_ids = res['objectIDs']"
   ]
  },
  {
   "cell_type": "code",
   "execution_count": 5,
   "metadata": {},
   "outputs": [
    {
     "data": {
      "text/plain": [
       "210191"
      ]
     },
     "execution_count": 5,
     "metadata": {},
     "output_type": "execute_result"
    }
   ],
   "source": [
    "sunflower_ids[3]"
   ]
  },
  {
   "cell_type": "code",
   "execution_count": null,
   "metadata": {},
   "outputs": [],
   "source": []
  },
  {
   "cell_type": "code",
   "execution_count": 6,
   "metadata": {},
   "outputs": [],
   "source": [
    "#Выполните запрос для объекта 437980"
   ]
  },
  {
   "cell_type": "code",
   "execution_count": 7,
   "metadata": {},
   "outputs": [],
   "source": [
    "url = 'https://collectionapi.metmuseum.org/public/collection/v1/objects/'\n",
    "obj = '437980'"
   ]
  },
  {
   "cell_type": "code",
   "execution_count": 8,
   "metadata": {},
   "outputs": [],
   "source": [
    "r2 = requests.get(url+obj)\n",
    "obj_test = r2.json()"
   ]
  },
  {
   "cell_type": "code",
   "execution_count": null,
   "metadata": {},
   "outputs": [],
   "source": []
  },
  {
   "cell_type": "code",
   "execution_count": null,
   "metadata": {},
   "outputs": [],
   "source": []
  },
  {
   "cell_type": "code",
   "execution_count": null,
   "metadata": {},
   "outputs": [],
   "source": [
    "#Теперь напишите цикл, с помощью которого будет собрана информация об объектах\n",
    "#Сколько объектов относятся к японской культуре? (culture –Japan)"
   ]
  },
  {
   "cell_type": "code",
   "execution_count": 9,
   "metadata": {},
   "outputs": [],
   "source": [
    "columns = ['objectID', 'title', 'artistDisplayName', 'department', 'objectBeginDate', 'objectEndDate', 'period', 'objectName', 'culture']"
   ]
  },
  {
   "cell_type": "code",
   "execution_count": 26,
   "metadata": {},
   "outputs": [],
   "source": [
    "#создаем пустой датафрейм\n",
    "df = pd.DataFrame()"
   ]
  },
  {
   "cell_type": "code",
   "execution_count": 27,
   "metadata": {},
   "outputs": [],
   "source": [
    "#делаем цикл, который перебирает данные по индексу\n",
    "for i in sunflower_ids:\n",
    "    rr = requests.get(url+str(i))\n",
    "    objj = rr.json()\n",
    "    df = df.append(objj, ignore_index=True)\n",
    "    "
   ]
  },
  {
   "cell_type": "code",
   "execution_count": 35,
   "metadata": {
    "scrolled": true
   },
   "outputs": [
    {
     "data": {
      "text/html": [
       "<div>\n",
       "<style scoped>\n",
       "    .dataframe tbody tr th:only-of-type {\n",
       "        vertical-align: middle;\n",
       "    }\n",
       "\n",
       "    .dataframe tbody tr th {\n",
       "        vertical-align: top;\n",
       "    }\n",
       "\n",
       "    .dataframe thead th {\n",
       "        text-align: right;\n",
       "    }\n",
       "</style>\n",
       "<table border=\"1\" class=\"dataframe\">\n",
       "  <thead>\n",
       "    <tr style=\"text-align: right;\">\n",
       "      <th></th>\n",
       "      <th>GalleryNumber</th>\n",
       "      <th>accessionNumber</th>\n",
       "      <th>accessionYear</th>\n",
       "      <th>additionalImages</th>\n",
       "      <th>artistAlphaSort</th>\n",
       "      <th>artistBeginDate</th>\n",
       "      <th>artistDisplayBio</th>\n",
       "      <th>artistDisplayName</th>\n",
       "      <th>artistEndDate</th>\n",
       "      <th>artistGender</th>\n",
       "      <th>...</th>\n",
       "      <th>region</th>\n",
       "      <th>reign</th>\n",
       "      <th>repository</th>\n",
       "      <th>rightsAndReproduction</th>\n",
       "      <th>river</th>\n",
       "      <th>state</th>\n",
       "      <th>subregion</th>\n",
       "      <th>tags</th>\n",
       "      <th>title</th>\n",
       "      <th>message</th>\n",
       "    </tr>\n",
       "  </thead>\n",
       "  <tbody>\n",
       "    <tr>\n",
       "      <th>28</th>\n",
       "      <td></td>\n",
       "      <td>14.40.827a, b</td>\n",
       "      <td>1914</td>\n",
       "      <td>[]</td>\n",
       "      <td></td>\n",
       "      <td></td>\n",
       "      <td></td>\n",
       "      <td></td>\n",
       "      <td></td>\n",
       "      <td></td>\n",
       "      <td>...</td>\n",
       "      <td></td>\n",
       "      <td></td>\n",
       "      <td>Metropolitan Museum of Art, New York, NY</td>\n",
       "      <td></td>\n",
       "      <td></td>\n",
       "      <td></td>\n",
       "      <td></td>\n",
       "      <td>[{'term': 'Sunflowers', 'AAT_URL': 'http://voc...</td>\n",
       "      <td>Incense box</td>\n",
       "      <td>NaN</td>\n",
       "    </tr>\n",
       "  </tbody>\n",
       "</table>\n",
       "<p>1 rows × 58 columns</p>\n",
       "</div>"
      ],
      "text/plain": [
       "   GalleryNumber accessionNumber accessionYear additionalImages  \\\n",
       "28                 14.40.827a, b          1914               []   \n",
       "\n",
       "   artistAlphaSort artistBeginDate artistDisplayBio artistDisplayName  \\\n",
       "28                                                                      \n",
       "\n",
       "   artistEndDate artistGender  ... region reign  \\\n",
       "28                             ...                \n",
       "\n",
       "                                  repository rightsAndReproduction river  \\\n",
       "28  Metropolitan Museum of Art, New York, NY                               \n",
       "\n",
       "   state subregion                                               tags  \\\n",
       "28                  [{'term': 'Sunflowers', 'AAT_URL': 'http://voc...   \n",
       "\n",
       "          title message  \n",
       "28  Incense box     NaN  \n",
       "\n",
       "[1 rows x 58 columns]"
      ]
     },
     "execution_count": 35,
     "metadata": {},
     "output_type": "execute_result"
    }
   ],
   "source": [
    "#находим сколько строк содержат культуру Japan\n",
    "df[df.culture=='Japan']"
   ]
  },
  {
   "cell_type": "code",
   "execution_count": null,
   "metadata": {},
   "outputs": [],
   "source": []
  },
  {
   "cell_type": "code",
   "execution_count": null,
   "metadata": {},
   "outputs": [],
   "source": []
  },
  {
   "cell_type": "code",
   "execution_count": 63,
   "metadata": {},
   "outputs": [],
   "source": [
    "#Выполните поисковый запрос для департамента \"Asian art\" (departmentId = 6) с тегом \"cat\" и запишите id объектов \n",
    "#в cat_ids. Используйте цикл из шага 4, чтобы получить данные о первой 1000 объектов из списка.\n",
    "\n",
    "#Note: выполнение цикла может занять некоторое время (~5 минут), поэтому проверять его работоспособность лучше \n",
    "#на более маленькой выборке\n",
    "\n",
    "#В качестве ответа укажите, в каком периоде (period) было выполнено наибольшее количество работ, представленных \n",
    "#в музее?"
   ]
  },
  {
   "cell_type": "code",
   "execution_count": 39,
   "metadata": {},
   "outputs": [],
   "source": [
    "#считываем индексы по ссылке\n",
    "r = requests.get('https://collectionapi.metmuseum.org/public/collection/v1/search?departmentId=6&q=cat')\n",
    "cats = r.json()"
   ]
  },
  {
   "cell_type": "code",
   "execution_count": 57,
   "metadata": {},
   "outputs": [],
   "source": [
    "#берем именно нужный лист со словаря \n",
    "cat_ids = cats['objectIDs']"
   ]
  },
  {
   "cell_type": "code",
   "execution_count": 59,
   "metadata": {},
   "outputs": [],
   "source": [
    "#перед тем как брать 1000 элементов, возьмем тестово 50\n",
    "test_cat_ids = cat_ids[:50]"
   ]
  },
  {
   "cell_type": "code",
   "execution_count": 60,
   "metadata": {},
   "outputs": [],
   "source": [
    "df_cat = pd.DataFrame()"
   ]
  },
  {
   "cell_type": "code",
   "execution_count": 61,
   "metadata": {},
   "outputs": [],
   "source": [
    "#делаем цикл, который перебирает данные по индексу\n",
    "for i in test_cat_ids:\n",
    "    rr = requests.get(url+str(i))\n",
    "    objj = rr.json()\n",
    "    df_cat = df_cat.append(objj, ignore_index=True)"
   ]
  },
  {
   "cell_type": "code",
   "execution_count": 67,
   "metadata": {
    "scrolled": true
   },
   "outputs": [
    {
     "data": {
      "text/html": [
       "<div>\n",
       "<style scoped>\n",
       "    .dataframe tbody tr th:only-of-type {\n",
       "        vertical-align: middle;\n",
       "    }\n",
       "\n",
       "    .dataframe tbody tr th {\n",
       "        vertical-align: top;\n",
       "    }\n",
       "\n",
       "    .dataframe thead th {\n",
       "        text-align: right;\n",
       "    }\n",
       "</style>\n",
       "<table border=\"1\" class=\"dataframe\">\n",
       "  <thead>\n",
       "    <tr style=\"text-align: right;\">\n",
       "      <th></th>\n",
       "      <th>period</th>\n",
       "      <th>accessionYear</th>\n",
       "    </tr>\n",
       "  </thead>\n",
       "  <tbody>\n",
       "    <tr>\n",
       "      <th>0</th>\n",
       "      <td></td>\n",
       "      <td>9</td>\n",
       "    </tr>\n",
       "    <tr>\n",
       "      <th>1</th>\n",
       "      <td>Central Javanese period</td>\n",
       "      <td>1</td>\n",
       "    </tr>\n",
       "    <tr>\n",
       "      <th>2</th>\n",
       "      <td>Edo (1615–1868) or Meiji period (1868–1912)</td>\n",
       "      <td>6</td>\n",
       "    </tr>\n",
       "    <tr>\n",
       "      <th>3</th>\n",
       "      <td>Edo period (1615–1868)</td>\n",
       "      <td>12</td>\n",
       "    </tr>\n",
       "    <tr>\n",
       "      <th>4</th>\n",
       "      <td>Khmer Empire (802–1431)</td>\n",
       "      <td>1</td>\n",
       "    </tr>\n",
       "    <tr>\n",
       "      <th>5</th>\n",
       "      <td>Meiji period (1868–1912)</td>\n",
       "      <td>6</td>\n",
       "    </tr>\n",
       "    <tr>\n",
       "      <th>6</th>\n",
       "      <td>Mon-Dvaravati period</td>\n",
       "      <td>1</td>\n",
       "    </tr>\n",
       "    <tr>\n",
       "      <th>7</th>\n",
       "      <td>Muromachi period (1392–1573)</td>\n",
       "      <td>1</td>\n",
       "    </tr>\n",
       "    <tr>\n",
       "      <th>8</th>\n",
       "      <td>Qing dynasty (1644–1911)</td>\n",
       "      <td>8</td>\n",
       "    </tr>\n",
       "    <tr>\n",
       "      <th>9</th>\n",
       "      <td>Song dynasty (960–1279) or later</td>\n",
       "      <td>1</td>\n",
       "    </tr>\n",
       "    <tr>\n",
       "      <th>10</th>\n",
       "      <td>pre-Angkor period</td>\n",
       "      <td>4</td>\n",
       "    </tr>\n",
       "  </tbody>\n",
       "</table>\n",
       "</div>"
      ],
      "text/plain": [
       "                                         period  accessionYear\n",
       "0                                                            9\n",
       "1                       Central Javanese period              1\n",
       "2   Edo (1615–1868) or Meiji period (1868–1912)              6\n",
       "3                        Edo period (1615–1868)             12\n",
       "4                       Khmer Empire (802–1431)              1\n",
       "5                      Meiji period (1868–1912)              6\n",
       "6                          Mon-Dvaravati period              1\n",
       "7                  Muromachi period (1392–1573)              1\n",
       "8                      Qing dynasty (1644–1911)              8\n",
       "9              Song dynasty (960–1279) or later              1\n",
       "10                            pre-Angkor period              4"
      ]
     },
     "execution_count": 67,
     "metadata": {},
     "output_type": "execute_result"
    }
   ],
   "source": [
    "#в этой маленькой выборе узнаем какой период был больше в количестве. Это Edo period (1615–1868)\n",
    "df_cat.groupby('period',as_index=False)\\\n",
    "    .agg({'accessionYear':'count'})"
   ]
  },
  {
   "cell_type": "code",
   "execution_count": 68,
   "metadata": {},
   "outputs": [],
   "source": [
    "df_cat_main = pd.DataFrame()"
   ]
  },
  {
   "cell_type": "code",
   "execution_count": 69,
   "metadata": {},
   "outputs": [],
   "source": [
    "#теперь берем 1000 индексов\n",
    "#делаем цикл, который перебирает данные по индексу\n",
    "for i in cat_ids:\n",
    "    rr = requests.get(url+str(i))\n",
    "    objj = rr.json()\n",
    "    df_cat_main = df_cat_main.append(objj, ignore_index=True)"
   ]
  },
  {
   "cell_type": "code",
   "execution_count": 72,
   "metadata": {},
   "outputs": [
    {
     "data": {
      "text/html": [
       "<div>\n",
       "<style scoped>\n",
       "    .dataframe tbody tr th:only-of-type {\n",
       "        vertical-align: middle;\n",
       "    }\n",
       "\n",
       "    .dataframe tbody tr th {\n",
       "        vertical-align: top;\n",
       "    }\n",
       "\n",
       "    .dataframe thead th {\n",
       "        text-align: right;\n",
       "    }\n",
       "</style>\n",
       "<table border=\"1\" class=\"dataframe\">\n",
       "  <thead>\n",
       "    <tr style=\"text-align: right;\">\n",
       "      <th></th>\n",
       "      <th>period</th>\n",
       "      <th>accessionYear</th>\n",
       "    </tr>\n",
       "  </thead>\n",
       "  <tbody>\n",
       "    <tr>\n",
       "      <th>32</th>\n",
       "      <td>Edo period (1615–1868)</td>\n",
       "      <td>1270</td>\n",
       "    </tr>\n",
       "    <tr>\n",
       "      <th>0</th>\n",
       "      <td></td>\n",
       "      <td>490</td>\n",
       "    </tr>\n",
       "    <tr>\n",
       "      <th>85</th>\n",
       "      <td>Ming dynasty (1368–1644)</td>\n",
       "      <td>210</td>\n",
       "    </tr>\n",
       "    <tr>\n",
       "      <th>144</th>\n",
       "      <td>Qing dynasty (1644–1911)</td>\n",
       "      <td>163</td>\n",
       "    </tr>\n",
       "    <tr>\n",
       "      <th>118</th>\n",
       "      <td>Muromachi period (1392–1573)</td>\n",
       "      <td>99</td>\n",
       "    </tr>\n",
       "    <tr>\n",
       "      <th>...</th>\n",
       "      <td>...</td>\n",
       "      <td>...</td>\n",
       "    </tr>\n",
       "    <tr>\n",
       "      <th>103</th>\n",
       "      <td>Ming dynasty(1368–1644), Xuande mark and perio...</td>\n",
       "      <td>1</td>\n",
       "    </tr>\n",
       "    <tr>\n",
       "      <th>104</th>\n",
       "      <td>Momoyama (1573–1615)</td>\n",
       "      <td>1</td>\n",
       "    </tr>\n",
       "    <tr>\n",
       "      <th>106</th>\n",
       "      <td>Momoyama (1573–1615)– Edo (1615–1868) period</td>\n",
       "      <td>1</td>\n",
       "    </tr>\n",
       "    <tr>\n",
       "      <th>107</th>\n",
       "      <td>Momoyama (1573–1615)–Edo (1615–1868) period</td>\n",
       "      <td>1</td>\n",
       "    </tr>\n",
       "    <tr>\n",
       "      <th>229</th>\n",
       "      <td>style of the Tang dynasty (618–907)</td>\n",
       "      <td>1</td>\n",
       "    </tr>\n",
       "  </tbody>\n",
       "</table>\n",
       "<p>230 rows × 2 columns</p>\n",
       "</div>"
      ],
      "text/plain": [
       "                                                period  accessionYear\n",
       "32                              Edo period (1615–1868)           1270\n",
       "0                                                                 490\n",
       "85                            Ming dynasty (1368–1644)            210\n",
       "144                           Qing dynasty (1644–1911)            163\n",
       "118                       Muromachi period (1392–1573)             99\n",
       "..                                                 ...            ...\n",
       "103  Ming dynasty(1368–1644), Xuande mark and perio...              1\n",
       "104                               Momoyama (1573–1615)              1\n",
       "106       Momoyama (1573–1615)– Edo (1615–1868) period              1\n",
       "107        Momoyama (1573–1615)–Edo (1615–1868) period              1\n",
       "229                style of the Tang dynasty (618–907)              1\n",
       "\n",
       "[230 rows x 2 columns]"
      ]
     },
     "execution_count": 72,
     "metadata": {},
     "output_type": "execute_result"
    }
   ],
   "source": [
    "#давайте узнаем какой период самый популярный. Это Edo period (1615–1868)\n",
    "df_cat_main.groupby('period',as_index=False)\\\n",
    "    .agg({'accessionYear':'count'})\\\n",
    "    .sort_values('accessionYear', ascending=False)"
   ]
  },
  {
   "cell_type": "code",
   "execution_count": null,
   "metadata": {},
   "outputs": [],
   "source": []
  }
 ],
 "metadata": {
  "kernelspec": {
   "display_name": "Python 3",
   "language": "python",
   "name": "python3"
  },
  "language_info": {
   "codemirror_mode": {
    "name": "ipython",
    "version": 3
   },
   "file_extension": ".py",
   "mimetype": "text/x-python",
   "name": "python",
   "nbconvert_exporter": "python",
   "pygments_lexer": "ipython3",
   "version": "3.7.3"
  }
 },
 "nbformat": 4,
 "nbformat_minor": 4
}
