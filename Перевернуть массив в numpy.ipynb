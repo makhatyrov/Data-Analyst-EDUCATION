{
 "cells": [
  {
   "cell_type": "code",
   "execution_count": 58,
   "id": "4aa941ff",
   "metadata": {},
   "outputs": [],
   "source": [
    "#Условие задачи\n",
    "#На вход подается двумерная матрица. вытяните из нее последние три строки, но так чтобы строки были расположены в обратном порядке\n",
    "\n",
    "import numpy as np"
   ]
  },
  {
   "cell_type": "code",
   "execution_count": 59,
   "id": "5d2e8ba9",
   "metadata": {},
   "outputs": [],
   "source": [
    "arr = np.arange(25)\n",
    "#создаем одномерный массив с размером 25"
   ]
  },
  {
   "cell_type": "code",
   "execution_count": 60,
   "id": "159d3737",
   "metadata": {},
   "outputs": [],
   "source": [
    "arr = arr.reshape((5,5))\n",
    "#преобразовываем одномерный массив в двумерный 5х5"
   ]
  },
  {
   "cell_type": "code",
   "execution_count": 61,
   "id": "e9f892ce",
   "metadata": {},
   "outputs": [
    {
     "data": {
      "text/plain": [
       "array([[ 0,  1,  2,  3,  4],\n",
       "       [ 5,  6,  7,  8,  9],\n",
       "       [10, 11, 12, 13, 14],\n",
       "       [15, 16, 17, 18, 19],\n",
       "       [20, 21, 22, 23, 24]])"
      ]
     },
     "execution_count": 61,
     "metadata": {},
     "output_type": "execute_result"
    }
   ],
   "source": [
    "arr"
   ]
  },
  {
   "cell_type": "code",
   "execution_count": 62,
   "id": "24e352c0",
   "metadata": {},
   "outputs": [],
   "source": [
    "arr_2 = arr[2:].copy()\n",
    "#копируем три последние строки"
   ]
  },
  {
   "cell_type": "code",
   "execution_count": 63,
   "id": "b08a55e6",
   "metadata": {},
   "outputs": [],
   "source": [
    "arr_2 = arr_2[::-1]\n",
    "#переворачиваем массив"
   ]
  },
  {
   "cell_type": "code",
   "execution_count": 64,
   "id": "334f4078",
   "metadata": {},
   "outputs": [
    {
     "data": {
      "text/plain": [
       "array([[20, 21, 22, 23, 24],\n",
       "       [15, 16, 17, 18, 19],\n",
       "       [10, 11, 12, 13, 14]])"
      ]
     },
     "execution_count": 64,
     "metadata": {},
     "output_type": "execute_result"
    }
   ],
   "source": [
    "arr_2\n",
    "#получаем значение массива arr_2"
   ]
  }
 ],
 "metadata": {
  "kernelspec": {
   "display_name": "Python 3 (ipykernel)",
   "language": "python",
   "name": "python3"
  },
  "language_info": {
   "codemirror_mode": {
    "name": "ipython",
    "version": 3
   },
   "file_extension": ".py",
   "mimetype": "text/x-python",
   "name": "python",
   "nbconvert_exporter": "python",
   "pygments_lexer": "ipython3",
   "version": "3.11.5"
  }
 },
 "nbformat": 4,
 "nbformat_minor": 5
}
